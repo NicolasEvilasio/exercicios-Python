{
 "cells": [
  {
   "cell_type": "code",
   "execution_count": null,
   "metadata": {},
   "outputs": [],
   "source": [
    "16:10"
   ]
  },
  {
   "cell_type": "markdown",
   "metadata": {},
   "source": [
    "**Exercício 1:**  \n",
    "Faça um programa que receba um nome e imprima o mesmo na vertical em escada invertida. Exemplo:\n",
    "\n",
    "**Entrada:**  \n",
    "PEDRO  \n",
    "\n",
    "**SAÍDA:**  \n",
    "PEDRO  \n",
    "PEDR  \n",
    "PED  \n",
    "PE  \n",
    "P  "
   ]
  },
  {
   "cell_type": "code",
   "execution_count": 40,
   "metadata": {},
   "outputs": [],
   "source": [
    "def decompor(palavra: str):\n",
    "    for i, letra in enumerate(palavra, 0):\n",
    "        print(palavra[: (len(palavra) if i == 0 else -i)])"
   ]
  },
  {
   "cell_type": "code",
   "execution_count": 42,
   "metadata": {},
   "outputs": [
    {
     "name": "stdout",
     "output_type": "stream",
     "text": [
      "Abraao\n",
      "Abraa\n",
      "Abra\n",
      "Abr\n",
      "Ab\n",
      "A\n"
     ]
    }
   ],
   "source": [
    "decompor('Abraao')"
   ]
  },
  {
   "cell_type": "markdown",
   "metadata": {},
   "source": [
    "**Exercício 2:**  \n",
    "Jogo da palavra embaralhada. Desenvolva um jogo em que a pessoa usuária tenha que adivinhar uma palavra que será mostrada com as letras embaralhadas. O programa terá uma lista de palavras e escolherá uma aleatoriamente. O jogador terá três tentativas para adivinhar a palavra. Ao final, a palavra deve ser mostrada na tela, informando se a pessoa ganhou ou perdeu o jogo.\n",
    "\n",
    "🦜 Para embaralhar uma palavra faça: scrambled_word = \"\".join(random.sample(word, len(word)))\n",
    "\n",
    "🦜 O sorteio de uma palavra aleatória pode ser feito utilizando o método choice: random.choice([\"word1\", \"word2\", \"word3\"]) -> \"word2\"."
   ]
  },
  {
   "cell_type": "code",
   "execution_count": 134,
   "metadata": {},
   "outputs": [],
   "source": [
    "import random\n",
    "\n",
    "def advinhar():\n",
    "    words = ['nicolas', 'peixe', 'geléia', 'paralelepípedo', 'motocicleta', 'natal', 'abacate', 'onibus', 'arara']\n",
    "    word = random.choice(words)\n",
    "    tentativas = 3\n",
    "    palpite = ''\n",
    "\n",
    "    scrambled_word = \"\".join(random.sample(word, len(word)))\n",
    "    \n",
    "    while palpite.lower() != word.lower() and tentativas > 0:\n",
    "        tentativas -= 1\n",
    "        palpite = input(f'{tentativas + 1} restantes.\\nAdvinhe qual palavra é essa: {scrambled_word}:').lower()\n",
    "    else:\n",
    "        if palpite.lower() == word.lower():\n",
    "            print('Parabéns, você acertou!')\n",
    "        else:\n",
    "            print(f'Suas tentativas se esgotaram. A palavra é: {word.lower()}')"
   ]
  },
  {
   "cell_type": "code",
   "execution_count": 60,
   "metadata": {},
   "outputs": [
    {
     "name": "stdout",
     "output_type": "stream",
     "text": [
      "Parabéns, você acertou!\n"
     ]
    }
   ],
   "source": [
    "advinhar('teste')"
   ]
  },
  {
   "cell_type": "markdown",
   "metadata": {},
   "source": [
    "**Exercício 3:**  \n",
    "Modifique o exercício anterior para que as palavras sejam lidas de um arquivo. Considere que o arquivo terá cada palavra em uma linha."
   ]
  },
  {
   "cell_type": "code",
   "execution_count": 3,
   "metadata": {},
   "outputs": [],
   "source": [
    "import random\n",
    "\n",
    "def advinhar_arq(arquivo: str):\n",
    "    words = []\n",
    "    with open(arquivo, 'r', encoding='utf-8') as file:\n",
    "        for row in file:\n",
    "            words.append(row[:-1])\n",
    "\n",
    "    word = random.choice(words)\n",
    "    tentativas = 3\n",
    "    palpite = ''\n",
    "\n",
    "    scrambled_word = \"\".join(random.sample(word, len(word)))\n",
    "    \n",
    "    while palpite.lower() != word.lower() and tentativas > 0:\n",
    "        tentativas -= 1\n",
    "        palpite = input(f'{tentativas + 1} restantes.\\nAdvinhe qual palavra é essa: {scrambled_word}:').lower()\n",
    "    else:\n",
    "        if palpite.lower() == word.lower():\n",
    "            print('Parabéns, você acertou!')\n",
    "        else:\n",
    "            print(f'Suas tentativas se esgotaram. A palavra é: {word.lower()}')"
   ]
  },
  {
   "cell_type": "code",
   "execution_count": 4,
   "metadata": {},
   "outputs": [
    {
     "name": "stdout",
     "output_type": "stream",
     "text": [
      "Parabéns, você acertou!\n"
     ]
    }
   ],
   "source": [
    "advinhar_arq('file.csv')"
   ]
  },
  {
   "cell_type": "markdown",
   "metadata": {},
   "source": [
    "**🚀 Exercício 4:**  \n",
    "Dado o seguinte arquivo no formato JSON, leia seu conteúdo e calcule a porcentagem de livros em cada categoria em relação ao número total de livros. O resultado deve ser escrito em um arquivo no formato CSV como o exemplo abaixo.  \n",
    "\n",
    "**Saída:**  \n",
    "categoria,porcentagem  \n",
    "Python,0.23201856148491878  \n",
    "Java,0.23201856148491878  \n",
    "PHP,0.23201856148491878  "
   ]
  },
  {
   "cell_type": "markdown",
   "metadata": {},
   "source": [
    "**IMPORTANDO JSON COM REQUESTS E CRIANDO O ARQUIVO PARA USAR FUTURAMENTE**"
   ]
  },
  {
   "cell_type": "code",
   "execution_count": 4,
   "metadata": {},
   "outputs": [],
   "source": [
    "import json\n",
    "import requests"
   ]
  },
  {
   "cell_type": "code",
   "execution_count": 5,
   "metadata": {},
   "outputs": [],
   "source": [
    "url = r'https://lms-assets.betrybe.com/lms/books.json?_gl=1*uvw0f5*_ga*MjEyOTU3Njc3OC4xNzAzNTMxMjYz*_ga_JRYMZ1LMBF*MTcwMzUzMTI2My4xLjEuMTcwMzUzMjAxMy41OC4wLjA.'"
   ]
  },
  {
   "cell_type": "code",
   "execution_count": 6,
   "metadata": {},
   "outputs": [],
   "source": [
    "response = requests.get(url).text"
   ]
  },
  {
   "cell_type": "code",
   "execution_count": null,
   "metadata": {},
   "outputs": [],
   "source": [
    "print(response)"
   ]
  },
  {
   "cell_type": "code",
   "execution_count": 8,
   "metadata": {},
   "outputs": [],
   "source": [
    "with open('file.json', 'w') as file:\n",
    "    file.writelines(response)"
   ]
  },
  {
   "cell_type": "code",
   "execution_count": 7,
   "metadata": {},
   "outputs": [],
   "source": [
    "with open('file.json', 'w') as file:\n",
    "    for row in response:\n",
    "        file.writelines(json.dumps(row))"
   ]
  },
  {
   "cell_type": "markdown",
   "metadata": {},
   "source": [
    "**RESOLUÇÃO DO EXERCÍCIO**"
   ]
  },
  {
   "cell_type": "code",
   "execution_count": 30,
   "metadata": {},
   "outputs": [],
   "source": [
    "import json\n",
    "import csv\n",
    "from tabulate import tabulate"
   ]
  },
  {
   "cell_type": "code",
   "execution_count": 10,
   "metadata": {},
   "outputs": [],
   "source": [
    "with open('file.json', 'r') as file:\n",
    "    livros = json.load(file)"
   ]
  },
  {
   "cell_type": "code",
   "execution_count": 20,
   "metadata": {},
   "outputs": [],
   "source": [
    "categorias = []\n",
    "for livro in livros:\n",
    "    for categoria in livro['categories']:\n",
    "        categorias.append(categoria)"
   ]
  },
  {
   "cell_type": "code",
   "execution_count": 32,
   "metadata": {},
   "outputs": [],
   "source": [
    "categoria_qtd = {}\n",
    "\n",
    "for categoria in set(categorias):\n",
    "    categoria_qtd[categoria] = (categorias.count(categoria))"
   ]
  },
  {
   "cell_type": "code",
   "execution_count": 48,
   "metadata": {},
   "outputs": [],
   "source": [
    "qtd_total = sum(categoria_qtd.values())\n",
    "\n",
    "for categoria in set(categorias):\n",
    "    categoria_qtd[categoria] = (categorias.count(categoria) / qtd_total)\n",
    "    "
   ]
  },
  {
   "cell_type": "code",
   "execution_count": 49,
   "metadata": {},
   "outputs": [],
   "source": [
    "data_list = [[categoria, qtd] for categoria, qtd in categoria_qtd.items()]\n",
    "table = tabulate(data_list, headers= ['categoria', 'quantidade'], tablefmt='pretty')"
   ]
  },
  {
   "cell_type": "code",
   "execution_count": 50,
   "metadata": {},
   "outputs": [
    {
     "name": "stdout",
     "output_type": "stream",
     "text": [
      "+-------------------------------+-----------------------+\n",
      "|           categoria           |      quantidade       |\n",
      "+-------------------------------+-----------------------+\n",
      "|                               | 0.006191950464396285  |\n",
      "|             Java              |  0.29721362229102166  |\n",
      "|            Mobile             | 0.0030959752321981426 |\n",
      "|           Internet            |  0.12693498452012383  |\n",
      "|            Python             | 0.018575851393188854  |\n",
      "|               S               | 0.0030959752321981426 |\n",
      "|              XML              |  0.01238390092879257  |\n",
      "|        Computer Graph         | 0.0030959752321981426 |\n",
      "|             Perl              | 0.018575851393188854  |\n",
      "|          Programming          |  0.03715170278637771  |\n",
      "|           Business            |  0.03715170278637771  |\n",
      "|  Object-Oriented Programming  |  0.01238390092879257  |\n",
      "|        Microsoft .NET         |  0.10526315789473684  |\n",
      "|        Microsoft/.NET         | 0.0030959752321981426 |\n",
      "|           Microsoft           |  0.02476780185758514  |\n",
      "|             .NET              | 0.0030959752321981426 |\n",
      "|       Mobile Technology       | 0.018575851393188854  |\n",
      "|        Algorithmic Art        | 0.0030959752321981426 |\n",
      "|          Open Source          | 0.006191950464396285  |\n",
      "|         Miscellaneous         | 0.006191950464396285  |\n",
      "|               P               | 0.0030959752321981426 |\n",
      "|           Miscella            | 0.0030959752321981426 |\n",
      "|         Client Server         | 0.0030959752321981426 |\n",
      "| Object-Technology Programming | 0.0030959752321981426 |\n",
      "|        Web Development        |  0.05263157894736842  |\n",
      "|         Client-Server         | 0.034055727554179564  |\n",
      "|            Theory             | 0.021671826625386997  |\n",
      "|         PowerBuilder          | 0.021671826625386997  |\n",
      "|   Next Generation Databases   | 0.0030959752321981426 |\n",
      "|           In Action           | 0.0030959752321981426 |\n",
      "|              PHP              | 0.0030959752321981426 |\n",
      "|     Software Development      | 0.0030959752321981426 |\n",
      "|             java              | 0.0030959752321981426 |\n",
      "|          Networking           | 0.021671826625386997  |\n",
      "|           internet            | 0.0030959752321981426 |\n",
      "|     Software Engineering      |  0.04953560371517028  |\n",
      "|              SOA              | 0.0030959752321981426 |\n",
      "|       Computer Graphics       | 0.018575851393188854  |\n",
      "+-------------------------------+-----------------------+\n"
     ]
    }
   ],
   "source": [
    "print(table)"
   ]
  },
  {
   "cell_type": "code",
   "execution_count": 1,
   "metadata": {},
   "outputs": [],
   "source": [
    "import json\n",
    "import csv\n",
    "\n",
    "\n",
    "def retrieve_books(file):\n",
    "    return json.load(file)\n",
    "\n",
    "\n",
    "\n",
    "def count_books_by_categories(books):\n",
    "    categories = {}\n",
    "    for book in books:\n",
    "        for category in book[\"categories\"]:\n",
    "            if not categories.get(category):\n",
    "                categories[category] = 0\n",
    "            categories[category] += 1\n",
    "    return categories\n",
    "\n",
    "\n",
    "def calculate_percentage_by_category(book_count_by_category, total_books):\n",
    "    return [\n",
    "        [category, num_books / total_books]\n",
    "        for category, num_books in book_count_by_category.items()\n",
    "    ]\n",
    "\n",
    "\n",
    "def write_csv_report(file, header, rows):\n",
    "    writer = csv.writer(file)\n",
    "    writer.writerow(header)\n",
    "    writer.writerows(rows)\n",
    "\n",
    "\n",
    "if __name__ == \"__main__\":\n",
    "    # retrieve books\n",
    "    with open(\"file.json\") as file:\n",
    "        books = retrieve_books(file)\n",
    "\n",
    "    # count by category\n",
    "    book_count_by_category = count_books_by_categories(books)\n",
    "\n",
    "    # calculate percentage\n",
    "    number_of_books = len(books)\n",
    "    books_percentage_rows = calculate_percentage_by_category(\n",
    "        book_count_by_category, number_of_books\n",
    "    )\n",
    "\n",
    "    # write csv\n",
    "    header = [\"categoria\", \"percentagem\"]\n",
    "    with open(\"report.csv\", \"w\") as file:\n",
    "        write_csv_report(file, header, books_percentage_rows)\n"
   ]
  },
  {
   "cell_type": "code",
   "execution_count": null,
   "metadata": {},
   "outputs": [],
   "source": []
  },
  {
   "cell_type": "markdown",
   "metadata": {},
   "source": [
    "**Exercício 5:**  \n",
    "Utilizando o arquivo pokemons.json, vamos escrever um programa que sorteie um pokemon aleatoriamente. O programa deve perguntar à pessoa usuária “Quem é esse pokemon?” até que ela o acerte. A cada erro, apresente um número de letras do nome daquele pokemon igual ao número de erros.\n",
    "\n",
    "Exemplo: O pokemon sorteado pelo programa é butterfree; a pessoa usuária chuta charizard; o programa deve exibir b. Em seguida, a pessoa chuta blastoise; o programa deve exibir bu; e assim por diante até a pessoa acertar.\n",
    "\n",
    "🦜 Você pode utilizar o método choice do modulo random para sortear aleatoriamente um pokemon. Ex: random.choice(pokemon) -> {\"name\": \"Pikachu\" }."
   ]
  },
  {
   "cell_type": "markdown",
   "metadata": {},
   "source": [
    "**gerando o arquivo json**"
   ]
  },
  {
   "cell_type": "code",
   "execution_count": 3,
   "metadata": {},
   "outputs": [],
   "source": [
    "import requests\n",
    "import json"
   ]
  },
  {
   "cell_type": "code",
   "execution_count": 4,
   "metadata": {},
   "outputs": [],
   "source": [
    "url = r'https://lms-assets.betrybe.com/lms/pokemons.json?_gl=1*11tac3i*_ga*MjEyOTU3Njc3OC4xNzAzNTMxMjYz*_ga_JRYMZ1LMBF*MTcwMzUzNjMwOS4yLjEuMTcwMzUzNjQwMy41OC4wLjA.'"
   ]
  },
  {
   "cell_type": "code",
   "execution_count": 5,
   "metadata": {},
   "outputs": [],
   "source": [
    "response = requests.get(url).text"
   ]
  },
  {
   "cell_type": "code",
   "execution_count": 9,
   "metadata": {},
   "outputs": [],
   "source": [
    "with open('pokemons.json', 'w', encoding='utf-8') as file:\n",
    "    file.writelines(response)"
   ]
  },
  {
   "cell_type": "markdown",
   "metadata": {},
   "source": [
    "**resolução do exercício**"
   ]
  },
  {
   "cell_type": "code",
   "execution_count": 10,
   "metadata": {},
   "outputs": [],
   "source": [
    "import random"
   ]
  },
  {
   "cell_type": "code",
   "execution_count": 24,
   "metadata": {},
   "outputs": [],
   "source": [
    "with open('pokemons.json', 'r', encoding='utf-8') as file:\n",
    "    pokemons = json.load(file)['results']"
   ]
  },
  {
   "cell_type": "code",
   "execution_count": 45,
   "metadata": {},
   "outputs": [],
   "source": [
    "pokemons_nomes = list(set([pokemon['name'] for pokemon in pokemons]))"
   ]
  },
  {
   "cell_type": "code",
   "execution_count": 52,
   "metadata": {},
   "outputs": [
    {
     "data": {
      "text/plain": [
       "'dodrio'"
      ]
     },
     "execution_count": 52,
     "metadata": {},
     "output_type": "execute_result"
    }
   ],
   "source": [
    "pokemon = random.choice(pokemons_nomes).lower()\n",
    "pokemon"
   ]
  },
  {
   "cell_type": "code",
   "execution_count": 53,
   "metadata": {},
   "outputs": [],
   "source": [
    "palpite = ''\n",
    "erros = 0\n",
    "\n",
    "while pokemon != palpite:\n",
    "    palpite = input(f'Qual é esse pokemon? {pokemon[:erros]}').lower()\n",
    "    erros += 1 if erros < len(pokemon) else 0"
   ]
  },
  {
   "cell_type": "code",
   "execution_count": null,
   "metadata": {},
   "outputs": [],
   "source": [
    "pedidos = "
   ]
  }
 ],
 "metadata": {
  "kernelspec": {
   "display_name": "Python 3",
   "language": "python",
   "name": "python3"
  },
  "language_info": {
   "codemirror_mode": {
    "name": "ipython",
    "version": 3
   },
   "file_extension": ".py",
   "mimetype": "text/x-python",
   "name": "python",
   "nbconvert_exporter": "python",
   "pygments_lexer": "ipython3",
   "version": "3.8.1"
  }
 },
 "nbformat": 4,
 "nbformat_minor": 2
}
